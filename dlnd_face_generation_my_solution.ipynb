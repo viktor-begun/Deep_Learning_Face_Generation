{
 "cells": [
  {
   "cell_type": "markdown",
   "metadata": {},
   "source": [
    "# Face Generation\n",
    "\n",
    "In this project, you'll define and train a DCGAN on a dataset of faces. Your goal is to get a generator network to generate *new* images of faces that look as realistic as possible!\n",
    "\n",
    "The project will be broken down into a series of tasks from **loading in data to defining and training adversarial networks**. At the end of the notebook, you'll be able to visualize the results of your trained Generator to see how it performs; your generated samples should look like fairly realistic faces with small amounts of noise.\n",
    "\n",
    "### Get the Data\n",
    "\n",
    "You'll be using the [CelebFaces Attributes Dataset (CelebA)](http://mmlab.ie.cuhk.edu.hk/projects/CelebA.html) to train your adversarial networks.\n",
    "\n",
    "This dataset is more complex than the number datasets (like MNIST or SVHN) you've been working with, and so, you should prepare to define deeper networks and train them for a longer time to get good results. It is suggested that you utilize a GPU for training.\n",
    "\n",
    "### Pre-processed Data\n",
    "\n",
    "Since the project's main focus is on building the GANs, we've done *some* of the pre-processing for you. Each of the CelebA images has been cropped to remove parts of the image that don't include a face, then resized down to 64x64x3 NumPy images. Some sample data is show below.\n",
    "\n",
    "<img src='assets/processed_face_data.png' width=60% />\n",
    "\n",
    "> If you are working locally, you can download this data [by clicking here](https://s3.amazonaws.com/video.udacity-data.com/topher/2018/November/5be7eb6f_processed-celeba-small/processed-celeba-small.zip)\n",
    "\n",
    "This is a zip file that you'll need to extract in the home directory of this notebook for further loading and processing. After extracting the data, you should be left with a directory of data `processed_celeba_small/`"
   ]
  },
  {
   "cell_type": "code",
   "execution_count": 1,
   "metadata": {},
   "outputs": [],
   "source": [
    "# can comment out after executing\n",
    "#!unzip processed-celeba-small.zip"
   ]
  },
  {
   "cell_type": "code",
   "execution_count": 2,
   "metadata": {},
   "outputs": [],
   "source": [
    "data_dir = 'processed_celeba_small/'\n",
    "\n",
    "\"\"\"\n",
    "DON'T MODIFY ANYTHING IN THIS CELL\n",
    "\"\"\"\n",
    "import pickle as pkl\n",
    "import matplotlib.pyplot as plt\n",
    "import numpy as np\n",
    "import problem_unittests as tests\n",
    "#import helper\n",
    "\n",
    "%matplotlib inline"
   ]
  },
  {
   "cell_type": "markdown",
   "metadata": {},
   "source": [
    "## Visualize the CelebA Data\n",
    "\n",
    "The [CelebA](http://mmlab.ie.cuhk.edu.hk/projects/CelebA.html) dataset contains over 200,000 celebrity images with annotations. Since you're going to be generating faces, you won't need the annotations, you'll only need the images. Note that these are color images with [3 color channels (RGB)](https://en.wikipedia.org/wiki/Channel_(digital_image)#RGB_Images) each.\n",
    "\n",
    "### Pre-process and Load the Data\n",
    "\n",
    "Since the project's main focus is on building the GANs, we've done *some* of the pre-processing for you. Each of the CelebA images has been cropped to remove parts of the image that don't include a face, then resized down to 64x64x3 NumPy images. This *pre-processed* dataset is a smaller subset of the very large CelebA data.\n",
    "\n",
    "> There are a few other steps that you'll need to **transform** this data and create a **DataLoader**.\n",
    "\n",
    "#### Exercise: Complete the following `get_dataloader` function, such that it satisfies these requirements:\n",
    "\n",
    "* Your images should be square, Tensor images of size `image_size x image_size` in the x and y dimension.\n",
    "* Your function should return a DataLoader that shuffles and batches these Tensor images.\n",
    "\n",
    "#### ImageFolder\n",
    "\n",
    "To create a dataset given a directory of images, it's recommended that you use PyTorch's [ImageFolder](https://pytorch.org/docs/stable/torchvision/datasets.html#imagefolder) wrapper, with a root directory `processed_celeba_small/` and data transformation passed in."
   ]
  },
  {
   "cell_type": "code",
   "execution_count": 3,
   "metadata": {},
   "outputs": [],
   "source": [
    "# necessary imports\n",
    "import os\n",
    "import torch\n",
    "from torchvision import datasets\n",
    "from torchvision import transforms\n",
    "from torch.utils.data import DataLoader"
   ]
  },
  {
   "cell_type": "code",
   "execution_count": 4,
   "metadata": {},
   "outputs": [],
   "source": [
    "def get_dataloader(batch_size=16, image_size=64, data_dir='processed_celeba_small/'):\n",
    "    \"\"\"\n",
    "    Batch the neural network data using DataLoader\n",
    "    :param batch_size: The size of each batch; the number of images in a batch\n",
    "    :param img_size: The square size of the image data (x, y)\n",
    "    :param data_dir: Directory where image data is located\n",
    "    :return: DataLoader with batched data\n",
    "    \"\"\"\n",
    "    \n",
    "    # TODO: Implement function and return a dataloader\n",
    "    # I follow CycleGAN_my_solution.ipynb\n",
    "    \n",
    "    # Resize and transform to tensor\n",
    "    transform = transforms.Compose([transforms.Resize(image_size), # resize to 64x64\n",
    "                                    transforms.ToTensor()])\n",
    "    \n",
    "    # Create training and test directories\n",
    "    image_path = data_dir\n",
    "    \n",
    "    # There is no sense in splitting the data.\n",
    "    image_data = datasets.ImageFolder(image_path, transform=transform)\n",
    "    image_loader = DataLoader(image_data, batch_size=batch_size, shuffle=True)\n",
    "    \n",
    "    \n",
    "    #train_path = image_path #os.path.join(image_path, 'train') # image_type)\n",
    "    #test_path  = os.path.join(image_path, 'test') \n",
    "    #                          \n",
    "    # Use PyTorch's ImageFolder wrapper, with a root directory processed_celeba_small/ and data transformation passed in,\n",
    "    # see https://pytorch.org/docs/stable/torchvision/datasets.html#imagefolder\n",
    "    #train_dataset = datasets.ImageFolder(train_path, transform)\n",
    "    #test_dataset  = datasets.ImageFolder(test_path,  transform)\n",
    "    \n",
    "    # Create dataloader, see https://pytorch.org/docs/stable/data.html?highlight=dataloader#torch.utils.data.DataLoader\n",
    "    #train_loader = DataLoader(dataset=train_dataset, batch_size=batch_size, schuffle=True)\n",
    "    #test_loader  = DataLoader(dataset=train_dataset, batch_size=batch_size, schuffle=False)\n",
    "    \n",
    "    return image_loader # train_loader, test_loader"
   ]
  },
  {
   "cell_type": "markdown",
   "metadata": {},
   "source": [
    "## Create a DataLoader\n",
    "\n",
    "#### Exercise: Create a DataLoader `celeba_train_loader` with appropriate hyperparameters.\n",
    "\n",
    "Call the above function and create a dataloader to view images. \n",
    "* You can decide on any reasonable `batch_size` parameter\n",
    "* Your `image_size` **must be** `32`. Resizing the data to a smaller size will make for faster training, while still creating convincing images of faces!"
   ]
  },
  {
   "cell_type": "code",
   "execution_count": 5,
   "metadata": {},
   "outputs": [],
   "source": [
    "# Define function hyperparameters\n",
    "batch_size = 20 # Must be <= 20, becuase 20 figures is displayed below.\n",
    "img_size = 32\n",
    "\n",
    "\"\"\"\n",
    "DON'T MODIFY ANYTHING IN THIS CELL THAT IS BELOW THIS LINE\n",
    "\"\"\"\n",
    "# Call your function and get a dataloader\n",
    "celeba_train_loader = get_dataloader(batch_size, img_size)\n",
    "#print(celeba_train_loader)"
   ]
  },
  {
   "cell_type": "markdown",
   "metadata": {},
   "source": [
    "Next, you can view some images! You should seen square images of somewhat-centered faces.\n",
    "\n",
    "Note: You'll need to convert the Tensor images into a NumPy type and transpose the dimensions to correctly display an image, suggested `imshow` code is below, but it may not be perfect."
   ]
  },
  {
   "cell_type": "code",
   "execution_count": 6,
   "metadata": {},
   "outputs": [
    {
     "data": {
      "image/png": "[encoded data removed]",
      "text/plain": [
       "<matplotlib.figure.Figure at 0x7fce7f14cc18>"
      ]
     },
     "metadata": {},
     "output_type": "display_data"
    }
   ],
   "source": [
    "# helper display function\n",
    "def imshow(img):\n",
    "    npimg = img.numpy()\n",
    "    plt.imshow(np.transpose(npimg, (1, 2, 0)))\n",
    "\n",
    "\"\"\"\n",
    "DON'T MODIFY ANYTHING IN THIS CELL THAT IS BELOW THIS LINE\n",
    "\"\"\"\n",
    "# obtain one batch of training images\n",
    "dataiter = iter(celeba_train_loader)\n",
    "images, _ = dataiter.next() # _ for no labels\n",
    "\n",
    "# plot the images in the batch, along with the corresponding labels\n",
    "fig = plt.figure(figsize=(20, 4))\n",
    "plot_size=20\n",
    "for idx in np.arange(plot_size):\n",
    "    ax = fig.add_subplot(2, plot_size/2, idx+1, xticks=[], yticks=[])\n",
    "    imshow(images[idx])"
   ]
  },
  {
   "cell_type": "markdown",
   "metadata": {},
   "source": [
    "#### Exercise: Pre-process your image data and scale it to a pixel range of -1 to 1\n",
    "\n",
    "You need to do a bit of pre-processing; you know that the output of a `tanh` activated generator will contain pixel values in a range from -1 to 1, and so, we need to rescale our training images to a range of -1 to 1. (Right now, they are in a range from 0-1.)"
   ]
  },
  {
   "cell_type": "code",
   "execution_count": 7,
   "metadata": {},
   "outputs": [],
   "source": [
    "# TODO: Complete the scale function\n",
    "def scale(x, feature_range=(-1, 1)):\n",
    "    ''' Scale takes in an image x and returns that image, scaled\n",
    "       with a feature_range of pixel values from -1 to 1. \n",
    "       This function assumes that the input x is already scaled from 0-1.'''\n",
    "    # assume x is scaled to (0, 1)\n",
    "    # scale to feature_range and return scaled x\n",
    "    \n",
    "    min, max = feature_range\n",
    "    #x = x * (max - min) + min\n",
    "    scaling_factor = (max-min)/(x.max()-x.min())\n",
    "    #\n",
    "    x = min + (x-x.min())*scaling_factor\n",
    "    \n",
    "    return x"
   ]
  },
  {
   "cell_type": "code",
   "execution_count": 8,
   "metadata": {},
   "outputs": [
    {
     "name": "stdout",
     "output_type": "stream",
     "text": [
      "Min:  tensor(-1.)\n",
      "Max:  tensor(1.)\n"
     ]
    }
   ],
   "source": [
    "\"\"\"\n",
    "DON'T MODIFY ANYTHING IN THIS CELL THAT IS BELOW THIS LINE\n",
    "\"\"\"\n",
    "# check scaled range\n",
    "# should be close to -1 to 1\n",
    "img = images[0]\n",
    "scaled_img = scale(img)\n",
    "\n",
    "print('Min: ', scaled_img.min())\n",
    "print('Max: ', scaled_img.max())"
   ]
  },
  {
   "cell_type": "markdown",
   "metadata": {},
   "source": [
    "---\n",
    "# Define the Model\n",
    "\n",
    "A GAN is comprised of two adversarial networks, a discriminator and a generator.\n",
    "\n",
    "## Discriminator\n",
    "\n",
    "Your first task will be to define the discriminator. This is a convolutional classifier like you've built before, only without any maxpooling layers. To deal with this complex data, it's suggested you use a deep network with **normalization**. You are also allowed to create any helper functions that may be useful.\n",
    "\n",
    "#### Exercise: Complete the Discriminator class\n",
    "* The inputs to the discriminator are 32x32x3 tensor images\n",
    "* The output should be a single value that will indicate whether a given image is real or fake\n"
   ]
  },
  {
   "cell_type": "code",
   "execution_count": 9,
   "metadata": {},
   "outputs": [],
   "source": [
    "import torch.nn as nn\n",
    "import torch.nn.functional as F"
   ]
  },
  {
   "cell_type": "markdown",
   "metadata": {},
   "source": [
    "**(!)** I want a deepest possible network. The minimal size of reducing stride is **`stride=2`**. A simplest solution is to have **`out = in/2`** dimensions. Therefore, from the formula\n",
    "**`out = ( in - kernel + 2*padding ) /stride + 1`** from [here](https://cs231n.github.io/convolutional-networks/), we get\\\n",
    "&nbsp;&nbsp;&nbsp;&nbsp;&nbsp;&nbsp;&nbsp;&nbsp;&nbsp;`in/2 = in/2 - kernel/2 + padding + 1`,\\\n",
    "`kernel/2 = padding + 1`.\n",
    "\n",
    "The smallest **`padding=0`**, then my **`kernel=2`**. This will also give **no overlay**, because we have chosen **`kernel=stride`**, see [A Comprehensive Introduction to Different Types of Convolutions in Deep Learning](https://towardsdatascience.com/a-comprehensive-introduction-to-different-types-of-convolutions-in-deep-learning-669281e58215) and shorter [Deconvolution and Checkerboard Artifacts](https://distill.pub/2016/deconv-checkerboard/), the visulatiosation of convolutions is [here](https://github.com/vdumoulin/conv_arithmetic/blob/master/README.md)."
   ]
  },
  {
   "cell_type": "markdown",
   "metadata": {},
   "source": [
    "**(!!!) The above consideration is wrong, because the model with `kernel=2, stride=2, padding=0` is NOT learning!!! The output of the generator is a set of disconnected 2x2 pixels. Therefore, I switched to the `kernel=4, stride=2, padding=1`, as in the exercises.**"
   ]
  },
  {
   "cell_type": "markdown",
   "metadata": {},
   "source": [
    "**(!) I add a `conv` helper function, as in `CycleGAN_my_solution.ipynb`**:"
   ]
  },
  {
   "cell_type": "code",
   "execution_count": 10,
   "metadata": {},
   "outputs": [],
   "source": [
    "def conv(in_channels, out_channels, kernel_size=4, stride=2, padding=1, batch_norm=True):\n",
    "    \"\"\"Creates a convolutional layer, with optional batch normalization.\n",
    "    \"\"\"\n",
    "    layers = []\n",
    "    conv_layer = nn.Conv2d(in_channels=in_channels, out_channels=out_channels, \n",
    "                           kernel_size=kernel_size, stride=stride, padding=padding, bias=False)\n",
    "    \n",
    "    layers.append(conv_layer)\n",
    "\n",
    "    if batch_norm:\n",
    "        layers.append(nn.BatchNorm2d(out_channels))\n",
    "    return nn.Sequential(*layers)"
   ]
  },
  {
   "cell_type": "markdown",
   "metadata": {},
   "source": [
    "**(!) I add `deconv` helper function, the same as in `CycleGAN_my_solution.ipynb`:**"
   ]
  },
  {
   "cell_type": "code",
   "execution_count": 11,
   "metadata": {},
   "outputs": [],
   "source": [
    "def deconv(in_channels, out_channels, kernel_size=4, stride=2, padding=1, batch_norm=True):\n",
    "    \"\"\"Creates a transpose convolutional layer, with optional batch normalization.\n",
    "    \"\"\"\n",
    "    layers = []\n",
    "    # append transpose conv layer\n",
    "    layers.append(nn.ConvTranspose2d(in_channels, out_channels, kernel_size, stride, padding, bias=False))\n",
    "    # optional batch norm layer\n",
    "    if batch_norm:\n",
    "        layers.append(nn.BatchNorm2d(out_channels))\n",
    "    return nn.Sequential(*layers)"
   ]
  },
  {
   "cell_type": "markdown",
   "metadata": {},
   "source": [
    "**(!)** Since stride is 2 and the input is 32x32, I can have only **5 layers**, because $32/2^5=1$."
   ]
  },
  {
   "cell_type": "code",
   "execution_count": 12,
   "metadata": {},
   "outputs": [
    {
     "name": "stdout",
     "output_type": "stream",
     "text": [
      "Discriminator(\n",
      "  (conv1): Sequential(\n",
      "    (0): Conv2d(3, 32, kernel_size=(4, 4), stride=(2, 2), padding=(1, 1), bias=False)\n",
      "  )\n",
      "  (conv2): Sequential(\n",
      "    (0): Conv2d(32, 64, kernel_size=(4, 4), stride=(2, 2), padding=(1, 1), bias=False)\n",
      "    (1): BatchNorm2d(64, eps=1e-05, momentum=0.1, affine=True, track_running_stats=True)\n",
      "  )\n",
      "  (conv3): Sequential(\n",
      "    (0): Conv2d(64, 128, kernel_size=(4, 4), stride=(2, 2), padding=(1, 1), bias=False)\n",
      "    (1): BatchNorm2d(128, eps=1e-05, momentum=0.1, affine=True, track_running_stats=True)\n",
      "  )\n",
      "  (conv4): Sequential(\n",
      "    (0): Conv2d(128, 256, kernel_size=(4, 4), stride=(2, 2), padding=(1, 1), bias=False)\n",
      "    (1): BatchNorm2d(256, eps=1e-05, momentum=0.1, affine=True, track_running_stats=True)\n",
      "  )\n",
      "  (fc): Linear(in_features=1024, out_features=1, bias=True)\n",
      ")\n",
      "Tests Passed\n"
     ]
    }
   ],
   "source": [
    "class Discriminator(nn.Module):\n",
    "\n",
    "    def __init__(self, conv_dim=32):\n",
    "        \"\"\"\n",
    "        Initialize the Discriminator Module\n",
    "        :param conv_dim: The depth of the first convolutional layer\n",
    "        \"\"\"\n",
    "        super(Discriminator, self).__init__()\n",
    "\n",
    "        # complete init function\n",
    "        # I follow CycleGAN_my_solution.ipynb\n",
    "        # Define 5 convolutional layers\n",
    "        # Stretch 3 colors into the amount of conv_dim dimensions and then double the number of dimensions with each layer.\n",
    "        # Don't use batch norm in the first and last layer.\n",
    "        self.conv1 = conv(3,          conv_dim, batch_norm=False) # Spatial 32->16\n",
    "        self.conv2 = conv(conv_dim,   conv_dim*2) # Spatial 16->8\n",
    "        self.conv3 = conv(conv_dim*2, conv_dim*4) # Spatial 8->4\n",
    "        self.conv4 = conv(conv_dim*4, conv_dim*8) # Spatial 4->2. The kernel is also 2, therefore no sense in further convolutions.\n",
    "        self.fc = nn.Linear(conv_dim*8*(2*2), 1)  # Transform the resulting matrix into 1 number. \n",
    "        \n",
    "        # Save the number of conv dimensions, in order to use in forward function below\n",
    "        self.conv_dim = conv_dim\n",
    "\n",
    "\n",
    "    def forward(self, x):\n",
    "        \"\"\"\n",
    "        Forward propagation of the neural network\n",
    "        :param x: The input to the neural network     \n",
    "        :return: Discriminator logits; the output of the neural network\n",
    "        \"\"\"\n",
    "        # Define feedforward behavior\n",
    "        # Use leaky relu for all layes except for the last one.\n",
    "        x = F.leaky_relu(self.conv1(x), 0.2)\n",
    "        x = F.leaky_relu(self.conv2(x), 0.2)\n",
    "        x = F.leaky_relu(self.conv3(x), 0.2)\n",
    "        x = F.leaky_relu(self.conv4(x), 0.2)\n",
    "        # Flatten the output of the conv layers\n",
    "        x = x.view(-1, self.conv_dim*8*(2*2))\n",
    "        x = self.fc(x)\n",
    "        \n",
    "        \n",
    "        return x\n",
    "    \n",
    "print(Discriminator())\n",
    "\n",
    "\"\"\"\n",
    "DON'T MODIFY ANYTHING IN THIS CELL THAT IS BELOW THIS LINE\n",
    "\"\"\"\n",
    "tests.test_discriminator(Discriminator)"
   ]
  },
  {
   "cell_type": "markdown",
   "metadata": {},
   "source": [
    "## Generator\n",
    "\n",
    "The generator should upsample an input and generate a *new* image of the same size as our training data `32x32x3`. This should be mostly transpose convolutional layers with normalization applied to the outputs.\n",
    "\n",
    "#### Exercise: Complete the Generator class\n",
    "* The inputs to the generator are vectors of some length `z_size`\n",
    "* The output should be a image of shape `32x32x3`"
   ]
  },
  {
   "cell_type": "markdown",
   "metadata": {},
   "source": [
    "**(!) This task is similar to `DCGAN_my_solution.ipynb`, therefore I follow that solution.**"
   ]
  },
  {
   "cell_type": "markdown",
   "metadata": {},
   "source": [
    "**(!) I add `ResNet` blocks as in the `CycleGAN_my_solution.ipynb`** to improve the learning ability of the Generator: \n",
    "- Two convolutional layers with the same size input and output\n",
    "- Batch normalization applied to the outputs of the convolutional layers (batch_norm=True by default in my `conv` function).\n",
    "- A ReLu function on the output of the first convolutional layer"
   ]
  },
  {
   "cell_type": "code",
   "execution_count": 13,
   "metadata": {},
   "outputs": [],
   "source": [
    "# residual block class\n",
    "class ResidualBlock(nn.Module):\n",
    "    \n",
    "    def __init__(self, conv_dim):\n",
    "        super(ResidualBlock, self).__init__()\n",
    "        self.conv1 = conv(conv_dim, conv_dim, kernel_size=3, stride=1, padding=1)\n",
    "        self.conv2 = conv(conv_dim, conv_dim, kernel_size=3, stride=1, padding=1)\n",
    "        \n",
    "    def forward(self, x):\n",
    "        x = F.relu(self.conv1(x))\n",
    "        x = x + (self.conv2(x))\n",
    "        \n",
    "        return x"
   ]
  },
  {
   "cell_type": "code",
   "execution_count": 14,
   "metadata": {},
   "outputs": [
    {
     "name": "stdout",
     "output_type": "stream",
     "text": [
      "Generator(\n",
      "  (fc): Linear(in_features=100, out_features=2048, bias=True)\n",
      "  (t_conv1): Sequential(\n",
      "    (0): ConvTranspose2d(128, 64, kernel_size=(4, 4), stride=(2, 2), padding=(1, 1), bias=False)\n",
      "    (1): BatchNorm2d(64, eps=1e-05, momentum=0.1, affine=True, track_running_stats=True)\n",
      "  )\n",
      "  (t_conv2): Sequential(\n",
      "    (0): ConvTranspose2d(64, 32, kernel_size=(4, 4), stride=(2, 2), padding=(1, 1), bias=False)\n",
      "    (1): BatchNorm2d(32, eps=1e-05, momentum=0.1, affine=True, track_running_stats=True)\n",
      "  )\n",
      "  (resnet_blocks): Sequential(\n",
      "    (0): ResidualBlock(\n",
      "      (conv1): Sequential(\n",
      "        (0): Conv2d(32, 32, kernel_size=(3, 3), stride=(1, 1), padding=(1, 1), bias=False)\n",
      "        (1): BatchNorm2d(32, eps=1e-05, momentum=0.1, affine=True, track_running_stats=True)\n",
      "      )\n",
      "      (conv2): Sequential(\n",
      "        (0): Conv2d(32, 32, kernel_size=(3, 3), stride=(1, 1), padding=(1, 1), bias=False)\n",
      "        (1): BatchNorm2d(32, eps=1e-05, momentum=0.1, affine=True, track_running_stats=True)\n",
      "      )\n",
      "    )\n",
      "    (1): ResidualBlock(\n",
      "      (conv1): Sequential(\n",
      "        (0): Conv2d(32, 32, kernel_size=(3, 3), stride=(1, 1), padding=(1, 1), bias=False)\n",
      "        (1): BatchNorm2d(32, eps=1e-05, momentum=0.1, affine=True, track_running_stats=True)\n",
      "      )\n",
      "      (conv2): Sequential(\n",
      "        (0): Conv2d(32, 32, kernel_size=(3, 3), stride=(1, 1), padding=(1, 1), bias=False)\n",
      "        (1): BatchNorm2d(32, eps=1e-05, momentum=0.1, affine=True, track_running_stats=True)\n",
      "      )\n",
      "    )\n",
      "  )\n",
      "  (t_conv3): Sequential(\n",
      "    (0): ConvTranspose2d(32, 3, kernel_size=(4, 4), stride=(2, 2), padding=(1, 1), bias=False)\n",
      "  )\n",
      ")\n",
      "Tests Passed\n"
     ]
    }
   ],
   "source": [
    "class Generator(nn.Module):\n",
    "# I follow CycleGAN_my_solution.ipynb\n",
    "\n",
    "    def __init__(self, z_size, conv_dim):\n",
    "        \"\"\"\n",
    "        Initialize the Generator Module\n",
    "        :param z_size: The length of the input latent vector, z\n",
    "        :param conv_dim: The depth of the inputs to the *last* transpose convolutional layer\n",
    "        \"\"\"\n",
    "        super(Generator, self).__init__()\n",
    "\n",
    "        # complete init function\n",
    "        \n",
    "        self.conv_dim = conv_dim\n",
    "        \n",
    "        # The first comes a fully connected layer, see the figure above.\n",
    "        # It should take z and return a layer, that is 4x4 and can be reduced twice two times, so it shoul be\n",
    "        # conv_dim*4*(4*4)\n",
    "        self.fc = nn.Linear(z_size, conv_dim*4*4*4) # Spatial dimension is 1 (in fact 0), since it is linear\n",
    "        # z_size -> conv_dim*4*4*4 => 100 -> 32*4*4*4 = 2048, where conv_dim=32\n",
    "        # Transpose convolutional layers:\n",
    "        # Receives 32*4 linear dimensions and (4*4) spatial dimensions\n",
    "        self.t_conv1 = deconv(conv_dim*4, conv_dim*2)\n",
    "        # 2048 = 32*4*(4*4) -> 32*2*(8*8) = 4096, where 8*8 spatial dimensions appeared instead of 4*4 due to stride 2 in deconv\n",
    "        #\n",
    "        self.t_conv2 = deconv(conv_dim*2, conv_dim)\n",
    "        # 4096 = 32*2*(8*8) -> 32*(16*16) = 8192, where 16*16 spatial dimensions appeared instead of 8*8 due to stride 2.\n",
    "        \n",
    "        \n",
    "        ## Resnet blocks\n",
    "        n_res_blocks = 2\n",
    "        resnet_layers = []\n",
    "        for layer in range(n_res_blocks):\n",
    "            resnet_layers.append(ResidualBlock(conv_dim))\n",
    "        # Use Sequential: https://pytorch.org/docs/stable/generated/torch.nn.Sequential.html\n",
    "        self.resnet_blocks = nn.Sequential(*resnet_layers)\n",
    "        \n",
    "        \n",
    "        \n",
    "        # The last layer is conv_dim*3 without batch\n",
    "        self.t_conv3 = deconv(conv_dim, 3, batch_norm = False)\n",
    "        # 8192 = 32*(16*16) -> 3*(32*32) = 3072\n",
    "        \n",
    "\n",
    "    def forward(self, x):\n",
    "        \"\"\"\n",
    "        Forward propagation of the neural network\n",
    "        :param x: The input to the neural network     \n",
    "        :return: A 32x32x3 Tensor image as output\n",
    "        \"\"\"\n",
    "        # define feedforward behavior\n",
    "        \n",
    "        # Apply the fully connected layer \n",
    "        x = self.fc(x)\n",
    "        # and reshape it\n",
    "        x = x.view(-1, self.conv_dim*4, 4, 4)\n",
    "        \n",
    "        # Get the x through the layers and apply a relu (not leaky_relu) functions.\n",
    "        x = F.relu(self.t_conv1(x))\n",
    "        x = F.relu(self.t_conv2(x))\n",
    "        \n",
    "        # Resnet blocks\n",
    "        x = self.resnet_blocks(x)\n",
    "        \n",
    "        # Last layer and the tanh activation function\n",
    "        x = self.t_conv3(x)\n",
    "        x = torch.tanh(x)\n",
    "        # Returns 32x32x3 matrix with pixels in the range (-1,1)\n",
    "        \n",
    "        return x\n",
    "    \n",
    "    \n",
    "print(Generator(100,32))\n",
    "\n",
    "\"\"\"\n",
    "DON'T MODIFY ANYTHING IN THIS CELL THAT IS BELOW THIS LINE\n",
    "\"\"\"\n",
    "tests.test_generator(Generator)"
   ]
  },
  {
   "cell_type": "markdown",
   "metadata": {},
   "source": [
    "#### Initialize the weights of your networks\n",
    "\n",
    "To help your models converge, you should initialize the weights of the convolutional and linear layers in your model. From reading the [original DCGAN paper](https://arxiv.org/pdf/1511.06434.pdf), they say:\n",
    "> All weights were initialized from a zero-centered Normal distribution with standard deviation 0.02.\n",
    "\n",
    "So, your next task will be to define a weight initialization function that does just this!\n",
    "\n",
    "You can refer back to the lesson on weight initialization or even consult existing model code, such as that from [the `networks.py` file in CycleGAN Github repository](https://github.com/junyanz/pytorch-CycleGAN-and-pix2pix/blob/master/models/networks.py) to help you complete this function.\n",
    "\n",
    "#### Exercise: Complete the weight initialization function\n",
    "\n",
    "* This should initialize only **convolutional** and **linear** layers\n",
    "* Initialize the weights to a normal distribution, centered around 0, with a standard deviation of 0.02.\n",
    "* The bias terms, if they exist, may be left alone or set to 0."
   ]
  },
  {
   "cell_type": "code",
   "execution_count": 15,
   "metadata": {},
   "outputs": [],
   "source": [
    "# We need it for the weights initialisation below\n",
    "from torch.nn import init"
   ]
  },
  {
   "cell_type": "code",
   "execution_count": 16,
   "metadata": {},
   "outputs": [],
   "source": [
    "def weights_init_normal(m):\n",
    "    \"\"\"\n",
    "    Applies initial weights to certain layers in a model .\n",
    "    The weights are taken from a normal distribution \n",
    "    with mean = 0, std dev = 0.02.\n",
    "    :param m: A module or layer in a network    \n",
    "    \"\"\"\n",
    "    # classname will be something like:\n",
    "    # `Conv`, `BatchNorm2d`, `Linear`, etc.\n",
    "    classname = m.__class__.__name__\n",
    "    \n",
    "    # TODO: Apply initial weights to convolutional and linear layers\n",
    "    #\n",
    "    # (!) In pytorch a normal distribution is given by \n",
    "    # normal_(tensor, mean = 0, std = 1)\n",
    "    # see https://pytorch.org/cppdocs/api/function_namespacetorch_1_1nn_1_1init_1a105c2a8ef81c6faa82a01cf35ce9f3b1.html\n",
    "    # (!) Adapting the code from https://github.com/junyanz/pytorch-CycleGAN-and-pix2pix/blob/master/models/networks.py\n",
    "    # for our case we get:\n",
    "    if classname.find('Conv') != -1 or classname.find('Linear') != -1:\n",
    "        init.normal_(m.weight.data, 0.0, 0.02)"
   ]
  },
  {
   "cell_type": "markdown",
   "metadata": {},
   "source": [
    "## Build complete network\n",
    "\n",
    "Define your models' hyperparameters and instantiate the discriminator and generator from the classes defined above. Make sure you've passed in the correct input arguments."
   ]
  },
  {
   "cell_type": "code",
   "execution_count": 17,
   "metadata": {},
   "outputs": [],
   "source": [
    "\"\"\"\n",
    "DON'T MODIFY ANYTHING IN THIS CELL THAT IS BELOW THIS LINE\n",
    "\"\"\"\n",
    "def build_network(d_conv_dim, g_conv_dim, z_size):\n",
    "    # define discriminator and generator\n",
    "    D = Discriminator(d_conv_dim)\n",
    "    G = Generator(z_size=z_size, conv_dim=g_conv_dim)\n",
    "\n",
    "    # initialize model weights\n",
    "    D.apply(weights_init_normal)\n",
    "    G.apply(weights_init_normal)\n",
    "\n",
    "    print(D)\n",
    "    print()\n",
    "    print(G)\n",
    "    \n",
    "    return D, G"
   ]
  },
  {
   "cell_type": "markdown",
   "metadata": {},
   "source": [
    "#### Exercise: Define model hyperparameters"
   ]
  },
  {
   "cell_type": "markdown",
   "metadata": {},
   "source": [
    "**(!) We have decided above to use 32x32 images, so conv_dim = 32.**"
   ]
  },
  {
   "cell_type": "code",
   "execution_count": 18,
   "metadata": {},
   "outputs": [
    {
     "name": "stdout",
     "output_type": "stream",
     "text": [
      "Discriminator(\n",
      "  (conv1): Sequential(\n",
      "    (0): Conv2d(3, 32, kernel_size=(4, 4), stride=(2, 2), padding=(1, 1), bias=False)\n",
      "  )\n",
      "  (conv2): Sequential(\n",
      "    (0): Conv2d(32, 64, kernel_size=(4, 4), stride=(2, 2), padding=(1, 1), bias=False)\n",
      "    (1): BatchNorm2d(64, eps=1e-05, momentum=0.1, affine=True, track_running_stats=True)\n",
      "  )\n",
      "  (conv3): Sequential(\n",
      "    (0): Conv2d(64, 128, kernel_size=(4, 4), stride=(2, 2), padding=(1, 1), bias=False)\n",
      "    (1): BatchNorm2d(128, eps=1e-05, momentum=0.1, affine=True, track_running_stats=True)\n",
      "  )\n",
      "  (conv4): Sequential(\n",
      "    (0): Conv2d(128, 256, kernel_size=(4, 4), stride=(2, 2), padding=(1, 1), bias=False)\n",
      "    (1): BatchNorm2d(256, eps=1e-05, momentum=0.1, affine=True, track_running_stats=True)\n",
      "  )\n",
      "  (fc): Linear(in_features=1024, out_features=1, bias=True)\n",
      ")\n",
      "\n",
      "Generator(\n",
      "  (fc): Linear(in_features=100, out_features=2048, bias=True)\n",
      "  (t_conv1): Sequential(\n",
      "    (0): ConvTranspose2d(128, 64, kernel_size=(4, 4), stride=(2, 2), padding=(1, 1), bias=False)\n",
      "    (1): BatchNorm2d(64, eps=1e-05, momentum=0.1, affine=True, track_running_stats=True)\n",
      "  )\n",
      "  (t_conv2): Sequential(\n",
      "    (0): ConvTranspose2d(64, 32, kernel_size=(4, 4), stride=(2, 2), padding=(1, 1), bias=False)\n",
      "    (1): BatchNorm2d(32, eps=1e-05, momentum=0.1, affine=True, track_running_stats=True)\n",
      "  )\n",
      "  (resnet_blocks): Sequential(\n",
      "    (0): ResidualBlock(\n",
      "      (conv1): Sequential(\n",
      "        (0): Conv2d(32, 32, kernel_size=(3, 3), stride=(1, 1), padding=(1, 1), bias=False)\n",
      "        (1): BatchNorm2d(32, eps=1e-05, momentum=0.1, affine=True, track_running_stats=True)\n",
      "      )\n",
      "      (conv2): Sequential(\n",
      "        (0): Conv2d(32, 32, kernel_size=(3, 3), stride=(1, 1), padding=(1, 1), bias=False)\n",
      "        (1): BatchNorm2d(32, eps=1e-05, momentum=0.1, affine=True, track_running_stats=True)\n",
      "      )\n",
      "    )\n",
      "    (1): ResidualBlock(\n",
      "      (conv1): Sequential(\n",
      "        (0): Conv2d(32, 32, kernel_size=(3, 3), stride=(1, 1), padding=(1, 1), bias=False)\n",
      "        (1): BatchNorm2d(32, eps=1e-05, momentum=0.1, affine=True, track_running_stats=True)\n",
      "      )\n",
      "      (conv2): Sequential(\n",
      "        (0): Conv2d(32, 32, kernel_size=(3, 3), stride=(1, 1), padding=(1, 1), bias=False)\n",
      "        (1): BatchNorm2d(32, eps=1e-05, momentum=0.1, affine=True, track_running_stats=True)\n",
      "      )\n",
      "    )\n",
      "  )\n",
      "  (t_conv3): Sequential(\n",
      "    (0): ConvTranspose2d(32, 3, kernel_size=(4, 4), stride=(2, 2), padding=(1, 1), bias=False)\n",
      "  )\n",
      ")\n"
     ]
    }
   ],
   "source": [
    "# Define model hyperparams\n",
    "d_conv_dim = 32\n",
    "g_conv_dim = 32\n",
    "z_size = 100\n",
    "\n",
    "\"\"\"\n",
    "DON'T MODIFY ANYTHING IN THIS CELL THAT IS BELOW THIS LINE\n",
    "\"\"\"\n",
    "D, G = build_network(d_conv_dim, g_conv_dim, z_size)"
   ]
  },
  {
   "cell_type": "markdown",
   "metadata": {},
   "source": [
    "### Training on GPU\n",
    "\n",
    "Check if you can train on GPU. Here, we'll set this as a boolean variable `train_on_gpu`. Later, you'll be responsible for making sure that \n",
    ">* Models,\n",
    "* Model inputs, and\n",
    "* Loss function arguments\n",
    "\n",
    "Are moved to GPU, where appropriate."
   ]
  },
  {
   "cell_type": "code",
   "execution_count": 19,
   "metadata": {},
   "outputs": [
    {
     "name": "stdout",
     "output_type": "stream",
     "text": [
      "Training on GPU!\n"
     ]
    }
   ],
   "source": [
    "\"\"\"\n",
    "DON'T MODIFY ANYTHING IN THIS CELL\n",
    "\"\"\"\n",
    "import torch\n",
    "\n",
    "# Check for a GPU\n",
    "train_on_gpu = torch.cuda.is_available()\n",
    "if not train_on_gpu:\n",
    "    print('No GPU found. Please use a GPU to train your neural network.')\n",
    "else:\n",
    "    print('Training on GPU!')"
   ]
  },
  {
   "cell_type": "markdown",
   "metadata": {},
   "source": [
    "---\n",
    "## Discriminator and Generator Losses\n",
    "\n",
    "Now we need to calculate the losses for both types of adversarial networks.\n",
    "\n",
    "### Discriminator Losses\n",
    "\n",
    "> * For the discriminator, the total loss is the sum of the losses for real and fake images, `d_loss = d_real_loss + d_fake_loss`. \n",
    "* Remember that we want the discriminator to output 1 for real images and 0 for fake images, so we need to set up the losses to reflect that.\n",
    "\n",
    "\n",
    "### Generator Loss\n",
    "\n",
    "The generator loss will look similar only with flipped labels. The generator's goal is to get the discriminator to *think* its generated images are *real*.\n",
    "\n",
    "#### Exercise: Complete real and fake loss functions\n",
    "\n",
    "**You may choose to use either cross entropy or a least squares error loss to complete the following `real_loss` and `fake_loss` functions.**"
   ]
  },
  {
   "cell_type": "code",
   "execution_count": 20,
   "metadata": {},
   "outputs": [],
   "source": [
    "def real_loss(D_out):\n",
    "    '''Calculates how close discriminator outputs are to being real.\n",
    "       param, D_out: discriminator logits\n",
    "       return: real loss'''\n",
    "    # Real means one, so it should be compared with one.\n",
    "    loss = torch.mean((D_out-1)**2)\n",
    "    return loss\n",
    "\n",
    "def fake_loss(D_out):\n",
    "    '''Calculates how close discriminator outputs are to being fake.\n",
    "       param, D_out: discriminator logits\n",
    "       return: fake loss'''\n",
    "    # Fake means zero, so it should be compared with zero.\n",
    "    loss = torch.mean(D_out**2)\n",
    "    return loss"
   ]
  },
  {
   "cell_type": "markdown",
   "metadata": {},
   "source": [
    "## Optimizers\n",
    "\n",
    "#### Exercise: Define optimizers for your Discriminator (D) and Generator (G)\n",
    "\n",
    "Define optimizers for your models with appropriate hyperparameters."
   ]
  },
  {
   "cell_type": "code",
   "execution_count": 21,
   "metadata": {},
   "outputs": [],
   "source": [
    "import torch.optim as optim\n",
    "\n",
    "# Create optimizers for the discriminator D and generator G\n",
    "#\n",
    "# Parameters are from CycleGAN_my_solution.ipynb\n",
    "# hyperparams for Adam optimizers\n",
    "lr = 0.0002\n",
    "beta1 = 0.5\n",
    "beta2 = 0.999 \n",
    "\n",
    "d_optimizer = optim.Adam(D.parameters(), lr, [beta1, beta2])\n",
    "g_optimizer = optim.Adam(G.parameters(), lr, [beta1, beta2])"
   ]
  },
  {
   "cell_type": "markdown",
   "metadata": {},
   "source": [
    "---\n",
    "## Training\n",
    "\n",
    "Training will involve alternating between training the discriminator and the generator. You'll use your functions `real_loss` and `fake_loss` to help you calculate the discriminator losses.\n",
    "\n",
    "* You should train the discriminator by alternating on real and fake images\n",
    "* Then the generator, which tries to trick the discriminator and should have an opposing loss function\n",
    "\n",
    "\n",
    "#### Saving Samples\n",
    "\n",
    "You've been given some code to print out some loss statistics and save some generated \"fake\" samples."
   ]
  },
  {
   "cell_type": "markdown",
   "metadata": {},
   "source": [
    "#### Exercise: Complete the training function\n",
    "\n",
    "Keep in mind that, if you've moved your models to GPU, you'll also have to move any model inputs to GPU."
   ]
  },
  {
   "cell_type": "code",
   "execution_count": 22,
   "metadata": {},
   "outputs": [],
   "source": [
    "def train(D, G, n_epochs, print_every=500):\n",
    "    '''Trains adversarial networks for some number of epochs\n",
    "       param, D: the discriminator network\n",
    "       param, G: the generator network\n",
    "       param, n_epochs: number of epochs to train for\n",
    "       param, print_every: when to print and record the models' losses\n",
    "       return: D and G losses'''\n",
    "    \n",
    "    # move models to GPU\n",
    "    if train_on_gpu:\n",
    "        D.cuda()\n",
    "        G.cuda()\n",
    "\n",
    "    # keep track of loss and generated, \"fake\" samples\n",
    "    samples = []\n",
    "    losses = []\n",
    "\n",
    "    # Get some fixed data for sampling. These are images that are held\n",
    "    # constant throughout training, and allow us to inspect the model's performance\n",
    "    sample_size=16\n",
    "    fixed_z = np.random.uniform(-1, 1, size=(sample_size, z_size))\n",
    "    fixed_z = torch.from_numpy(fixed_z).float()\n",
    "    # move z to GPU if available\n",
    "    if train_on_gpu:\n",
    "        fixed_z = fixed_z.cuda()\n",
    "\n",
    "    # epoch training loop\n",
    "    for epoch in range(n_epochs):\n",
    "\n",
    "        # batch training loop\n",
    "        for batch_i, (real_images, _) in enumerate(celeba_train_loader):\n",
    "\n",
    "            batch_size = real_images.size(0)\n",
    "            real_images = scale(real_images)\n",
    "\n",
    "            # ===============================================\n",
    "            #         YOUR CODE HERE: TRAIN THE NETWORKS\n",
    "            # ===============================================\n",
    "            \n",
    "            # I follow DCGAN_my_solution.ipynb\n",
    "            \n",
    "            d_optimizer.zero_grad()\n",
    "            \n",
    "            if train_on_gpu:\n",
    "                real_images = real_images.cuda()\n",
    "            \n",
    "            # 1. Train the discriminator on real and fake images\n",
    "            \n",
    "            # Generate fake images:\n",
    "            z = np.random.uniform(-1,1, size=(batch_size, z_size))\n",
    "            z = torch.from_numpy(z).float()\n",
    "            if train_on_gpu:\n",
    "                z = z.cuda()\n",
    "            fake_images = G(z)\n",
    "            \n",
    "            # Compute the loss on real images\n",
    "            D_real = D(real_images)\n",
    "            d_real_loss = real_loss(D_real)\n",
    "            \n",
    "            # Compute the loss on fake images\n",
    "            D_fake = D(fake_images)\n",
    "            d_fake_loss = fake_loss(D_fake)\n",
    "            \n",
    "            # Sum up the losses and perform backpropagation\n",
    "            d_loss = d_real_loss + d_fake_loss\n",
    "            d_loss.backward()\n",
    "            d_optimizer.step()\n",
    "\n",
    "            # 2. Train the generator with an adversarial loss\n",
    "            \n",
    "            g_optimizer.zero_grad()\n",
    "            \n",
    "            # Generate fake images:\n",
    "            z = np.random.uniform(-1,1, size=(batch_size, z_size))\n",
    "            z = torch.from_numpy(z).float()\n",
    "            if train_on_gpu:\n",
    "                z = z.cuda()\n",
    "            fake_images = G(z)\n",
    "            \n",
    "            # Compute the real loss on fake images = adversarial loss\n",
    "            D_fake = D(fake_images)\n",
    "            g_loss = real_loss(D_fake)\n",
    "            \n",
    "            # Perform backpropagation\n",
    "            g_loss.backward()\n",
    "            g_optimizer.step()\n",
    "            \n",
    "            \n",
    "            # ===============================================\n",
    "            #              END OF YOUR CODE\n",
    "            # ===============================================\n",
    "\n",
    "            # Print some loss stats\n",
    "            if batch_i % print_every == 0:\n",
    "                # append discriminator loss and generator loss\n",
    "                losses.append((d_loss.item(), g_loss.item()))\n",
    "                # print discriminator and generator loss\n",
    "                print('Epoch [{:5d}/{:5d}] | d_loss: {:6.4f} | g_loss: {:6.4f}'.format(\n",
    "                        epoch+1, n_epochs, d_loss.item(), g_loss.item()))\n",
    "\n",
    "\n",
    "        ## AFTER EACH EPOCH##    \n",
    "        # this code assumes your generator is named G, feel free to change the name\n",
    "        # generate and save sample, fake images\n",
    "        G.eval() # for generating samples\n",
    "        samples_z = G(fixed_z)\n",
    "        samples.append(samples_z)\n",
    "        G.train() # back to training mode\n",
    "\n",
    "    # Save training generator samples\n",
    "    with open('train_samples.pkl', 'wb') as f:\n",
    "        pkl.dump(samples, f)\n",
    "    \n",
    "    # finally return losses\n",
    "    return losses"
   ]
  },
  {
   "cell_type": "markdown",
   "metadata": {},
   "source": [
    "Set your number of training epochs and train your GAN!"
   ]
  },
  {
   "cell_type": "code",
   "execution_count": 28,
   "metadata": {},
   "outputs": [
    {
     "name": "stdout",
     "output_type": "stream",
     "text": [
      "Epoch [    1/   15] | d_loss: 0.0897 | g_loss: 0.2099\n",
      "Epoch [    1/   15] | d_loss: 0.0533 | g_loss: 0.8569\n",
      "Epoch [    1/   15] | d_loss: 0.2575 | g_loss: 1.1841\n",
      "Epoch [    1/   15] | d_loss: 0.1049 | g_loss: 1.4635\n",
      "Epoch [    1/   15] | d_loss: 0.1309 | g_loss: 0.8727\n",
      "Epoch [    1/   15] | d_loss: 0.1292 | g_loss: 0.5937\n",
      "Epoch [    1/   15] | d_loss: 0.2530 | g_loss: 0.6468\n",
      "Epoch [    1/   15] | d_loss: 0.0991 | g_loss: 0.5908\n",
      "Epoch [    1/   15] | d_loss: 0.2306 | g_loss: 0.5543\n",
      "Epoch [    2/   15] | d_loss: 0.3356 | g_loss: 1.3825\n",
      "Epoch [    2/   15] | d_loss: 0.1070 | g_loss: 0.4090\n",
      "Epoch [    2/   15] | d_loss: 0.1879 | g_loss: 0.6615\n",
      "Epoch [    2/   15] | d_loss: 0.0704 | g_loss: 1.0844\n",
      "Epoch [    2/   15] | d_loss: 0.1218 | g_loss: 0.9866\n",
      "Epoch [    2/   15] | d_loss: 0.1015 | g_loss: 0.8200\n",
      "Epoch [    2/   15] | d_loss: 0.1381 | g_loss: 0.8545\n",
      "Epoch [    2/   15] | d_loss: 0.0717 | g_loss: 0.5866\n",
      "Epoch [    2/   15] | d_loss: 0.0699 | g_loss: 1.0093\n",
      "Epoch [    3/   15] | d_loss: 0.1426 | g_loss: 0.6901\n",
      "Epoch [    3/   15] | d_loss: 0.0645 | g_loss: 0.9547\n",
      "Epoch [    3/   15] | d_loss: 0.0945 | g_loss: 0.8419\n",
      "Epoch [    3/   15] | d_loss: 0.1120 | g_loss: 0.7377\n",
      "Epoch [    3/   15] | d_loss: 0.1816 | g_loss: 1.0228\n",
      "Epoch [    3/   15] | d_loss: 0.1089 | g_loss: 0.8495\n",
      "Epoch [    3/   15] | d_loss: 0.1617 | g_loss: 0.9241\n",
      "Epoch [    3/   15] | d_loss: 0.1661 | g_loss: 0.7790\n",
      "Epoch [    3/   15] | d_loss: 0.0803 | g_loss: 0.8452\n",
      "Epoch [    4/   15] | d_loss: 0.0769 | g_loss: 1.0457\n",
      "Epoch [    4/   15] | d_loss: 0.3245 | g_loss: 0.6952\n",
      "Epoch [    4/   15] | d_loss: 0.1055 | g_loss: 1.0626\n",
      "Epoch [    4/   15] | d_loss: 0.1301 | g_loss: 0.9880\n",
      "Epoch [    4/   15] | d_loss: 0.0501 | g_loss: 1.0002\n",
      "Epoch [    4/   15] | d_loss: 0.0369 | g_loss: 0.7646\n",
      "Epoch [    4/   15] | d_loss: 0.1105 | g_loss: 0.5634\n",
      "Epoch [    4/   15] | d_loss: 0.0730 | g_loss: 0.4039\n",
      "Epoch [    4/   15] | d_loss: 0.0631 | g_loss: 0.3304\n",
      "Epoch [    5/   15] | d_loss: 0.1567 | g_loss: 0.6604\n",
      "Epoch [    5/   15] | d_loss: 0.2197 | g_loss: 0.8324\n",
      "Epoch [    5/   15] | d_loss: 0.0805 | g_loss: 0.3558\n",
      "Epoch [    5/   15] | d_loss: 0.2309 | g_loss: 0.9405\n",
      "Epoch [    5/   15] | d_loss: 0.0409 | g_loss: 0.6766\n",
      "Epoch [    5/   15] | d_loss: 0.1368 | g_loss: 0.9413\n",
      "Epoch [    5/   15] | d_loss: 0.1039 | g_loss: 0.9456\n",
      "Epoch [    5/   15] | d_loss: 0.1726 | g_loss: 0.8475\n",
      "Epoch [    5/   15] | d_loss: 0.0851 | g_loss: 0.7368\n",
      "Epoch [    6/   15] | d_loss: 0.2264 | g_loss: 1.2300\n",
      "Epoch [    6/   15] | d_loss: 0.0399 | g_loss: 1.8468\n",
      "Epoch [    6/   15] | d_loss: 0.0431 | g_loss: 0.7314\n",
      "Epoch [    6/   15] | d_loss: 0.0883 | g_loss: 1.0869\n",
      "Epoch [    6/   15] | d_loss: 0.0720 | g_loss: 0.9732\n",
      "Epoch [    6/   15] | d_loss: 0.0502 | g_loss: 1.0182\n",
      "Epoch [    6/   15] | d_loss: 0.1579 | g_loss: 1.1650\n",
      "Epoch [    6/   15] | d_loss: 0.1405 | g_loss: 0.9479\n",
      "Epoch [    6/   15] | d_loss: 0.1396 | g_loss: 0.7720\n",
      "Epoch [    7/   15] | d_loss: 0.1555 | g_loss: 1.0195\n",
      "Epoch [    7/   15] | d_loss: 0.1077 | g_loss: 0.7136\n",
      "Epoch [    7/   15] | d_loss: 0.0676 | g_loss: 0.9825\n",
      "Epoch [    7/   15] | d_loss: 0.0355 | g_loss: 0.9757\n",
      "Epoch [    7/   15] | d_loss: 0.0792 | g_loss: 1.0877\n",
      "Epoch [    7/   15] | d_loss: 0.0769 | g_loss: 0.2736\n",
      "Epoch [    7/   15] | d_loss: 0.1057 | g_loss: 0.9843\n",
      "Epoch [    7/   15] | d_loss: 0.0481 | g_loss: 0.8066\n",
      "Epoch [    7/   15] | d_loss: 0.1302 | g_loss: 1.1014\n",
      "Epoch [    8/   15] | d_loss: 0.0694 | g_loss: 0.7887\n",
      "Epoch [    8/   15] | d_loss: 0.1899 | g_loss: 1.3052\n",
      "Epoch [    8/   15] | d_loss: 0.1550 | g_loss: 0.8707\n",
      "Epoch [    8/   15] | d_loss: 0.1009 | g_loss: 0.9280\n",
      "Epoch [    8/   15] | d_loss: 0.0724 | g_loss: 0.7989\n",
      "Epoch [    8/   15] | d_loss: 0.0887 | g_loss: 0.8032\n",
      "Epoch [    8/   15] | d_loss: 0.0951 | g_loss: 0.7600\n",
      "Epoch [    8/   15] | d_loss: 0.0487 | g_loss: 0.8989\n",
      "Epoch [    8/   15] | d_loss: 0.0794 | g_loss: 0.7435\n",
      "Epoch [    9/   15] | d_loss: 0.1622 | g_loss: 0.6811\n",
      "Epoch [    9/   15] | d_loss: 0.0485 | g_loss: 1.3008\n",
      "Epoch [    9/   15] | d_loss: 0.2541 | g_loss: 0.8237\n",
      "Epoch [    9/   15] | d_loss: 0.0464 | g_loss: 0.8466\n",
      "Epoch [    9/   15] | d_loss: 0.0680 | g_loss: 1.4369\n",
      "Epoch [    9/   15] | d_loss: 0.1030 | g_loss: 0.5994\n",
      "Epoch [    9/   15] | d_loss: 0.0512 | g_loss: 0.8599\n",
      "Epoch [    9/   15] | d_loss: 0.1294 | g_loss: 0.9852\n",
      "Epoch [    9/   15] | d_loss: 0.0800 | g_loss: 1.0397\n",
      "Epoch [   10/   15] | d_loss: 0.1605 | g_loss: 0.9229\n",
      "Epoch [   10/   15] | d_loss: 0.3205 | g_loss: 0.4878\n",
      "Epoch [   10/   15] | d_loss: 0.1734 | g_loss: 0.9027\n",
      "Epoch [   10/   15] | d_loss: 0.0657 | g_loss: 0.6798\n",
      "Epoch [   10/   15] | d_loss: 0.2119 | g_loss: 0.5994\n",
      "Epoch [   10/   15] | d_loss: 0.0476 | g_loss: 1.0099\n",
      "Epoch [   10/   15] | d_loss: 0.2716 | g_loss: 0.5138\n",
      "Epoch [   10/   15] | d_loss: 0.1588 | g_loss: 0.3843\n",
      "Epoch [   10/   15] | d_loss: 0.0923 | g_loss: 1.2146\n",
      "Epoch [   11/   15] | d_loss: 0.0524 | g_loss: 0.9662\n",
      "Epoch [   11/   15] | d_loss: 0.1536 | g_loss: 0.8304\n",
      "Epoch [   11/   15] | d_loss: 0.1762 | g_loss: 0.8346\n",
      "Epoch [   11/   15] | d_loss: 0.0554 | g_loss: 0.9120\n",
      "Epoch [   11/   15] | d_loss: 0.1028 | g_loss: 0.9172\n",
      "Epoch [   11/   15] | d_loss: 0.0848 | g_loss: 1.2845\n",
      "Epoch [   11/   15] | d_loss: 0.0614 | g_loss: 1.0554\n",
      "Epoch [   11/   15] | d_loss: 0.0459 | g_loss: 0.8014\n",
      "Epoch [   11/   15] | d_loss: 0.0294 | g_loss: 0.9606\n",
      "Epoch [   12/   15] | d_loss: 0.1249 | g_loss: 0.5536\n",
      "Epoch [   12/   15] | d_loss: 0.0362 | g_loss: 0.8325\n",
      "Epoch [   12/   15] | d_loss: 0.2289 | g_loss: 1.0747\n",
      "Epoch [   12/   15] | d_loss: 0.0386 | g_loss: 0.8996\n",
      "Epoch [   12/   15] | d_loss: 0.0792 | g_loss: 0.3993\n",
      "Epoch [   12/   15] | d_loss: 0.1618 | g_loss: 1.5739\n",
      "Epoch [   12/   15] | d_loss: 0.0714 | g_loss: 0.7494\n",
      "Epoch [   12/   15] | d_loss: 0.0852 | g_loss: 0.7633\n",
      "Epoch [   12/   15] | d_loss: 0.0959 | g_loss: 0.9069\n",
      "Epoch [   13/   15] | d_loss: 0.0686 | g_loss: 0.7191\n",
      "Epoch [   13/   15] | d_loss: 0.1052 | g_loss: 0.9698\n",
      "Epoch [   13/   15] | d_loss: 0.0838 | g_loss: 0.9745\n",
      "Epoch [   13/   15] | d_loss: 0.0935 | g_loss: 0.4519\n",
      "Epoch [   13/   15] | d_loss: 0.0591 | g_loss: 0.9992\n",
      "Epoch [   13/   15] | d_loss: 0.0341 | g_loss: 0.8465\n",
      "Epoch [   13/   15] | d_loss: 0.0656 | g_loss: 0.8873\n",
      "Epoch [   13/   15] | d_loss: 0.0628 | g_loss: 0.8716\n",
      "Epoch [   13/   15] | d_loss: 0.0657 | g_loss: 0.8902\n",
      "Epoch [   14/   15] | d_loss: 0.0723 | g_loss: 0.9616\n",
      "Epoch [   14/   15] | d_loss: 0.0318 | g_loss: 0.6875\n",
      "Epoch [   14/   15] | d_loss: 0.1004 | g_loss: 0.8912\n",
      "Epoch [   14/   15] | d_loss: 0.0976 | g_loss: 0.9202\n",
      "Epoch [   14/   15] | d_loss: 0.0648 | g_loss: 0.4797\n",
      "Epoch [   14/   15] | d_loss: 0.0647 | g_loss: 1.1712\n",
      "Epoch [   14/   15] | d_loss: 0.0766 | g_loss: 0.6271\n",
      "Epoch [   14/   15] | d_loss: 0.0350 | g_loss: 0.5199\n",
      "Epoch [   14/   15] | d_loss: 0.2644 | g_loss: 1.2949\n",
      "Epoch [   15/   15] | d_loss: 0.1204 | g_loss: 0.7691\n",
      "Epoch [   15/   15] | d_loss: 0.1392 | g_loss: 0.5026\n",
      "Epoch [   15/   15] | d_loss: 0.0818 | g_loss: 1.1259\n",
      "Epoch [   15/   15] | d_loss: 0.1165 | g_loss: 0.9491\n",
      "Epoch [   15/   15] | d_loss: 0.1634 | g_loss: 0.9821\n",
      "Epoch [   15/   15] | d_loss: 0.1406 | g_loss: 1.1601\n",
      "Epoch [   15/   15] | d_loss: 0.0474 | g_loss: 1.0429\n",
      "Epoch [   15/   15] | d_loss: 0.0568 | g_loss: 1.2573\n",
      "Epoch [   15/   15] | d_loss: 0.1056 | g_loss: 0.7116\n"
     ]
    }
   ],
   "source": [
    "# set number of epochs \n",
    "n_epochs = 15\n",
    "\n",
    "\n",
    "\"\"\"\n",
    "DON'T MODIFY ANYTHING IN THIS CELL\n",
    "\"\"\"\n",
    "# call training function\n",
    "losses = train(D, G, n_epochs=n_epochs)"
   ]
  },
  {
   "cell_type": "markdown",
   "metadata": {},
   "source": [
    "## Training loss\n",
    "\n",
    "Plot the training losses for the generator and discriminator, recorded after each epoch."
   ]
  },
  {
   "cell_type": "code",
   "execution_count": 29,
   "metadata": {},
   "outputs": [
    {
     "data": {
      "image/png": "[encoded data removed]",
      "text/plain": [
       "<matplotlib.figure.Figure at 0x7fce71f26208>"
      ]
     },
     "metadata": {
      "needs_background": "light"
     },
     "output_type": "display_data"
    }
   ],
   "source": [
    "fig, ax = plt.subplots()\n",
    "losses = np.array(losses)\n",
    "plt.plot(losses.T[0], label='Discriminator', alpha=0.5)\n",
    "plt.plot(losses.T[1], label='Generator', alpha=0.5)\n",
    "plt.title(\"Training Losses\")\n",
    "plt.legend();"
   ]
  },
  {
   "cell_type": "markdown",
   "metadata": {},
   "source": [
    "## Generator samples from training\n",
    "\n",
    "View samples of images from the generator, and answer a question about the strengths and weaknesses of your trained models."
   ]
  },
  {
   "cell_type": "code",
   "execution_count": 30,
   "metadata": {},
   "outputs": [],
   "source": [
    "# helper function for viewing a list of passed in sample images\n",
    "def view_samples(epoch, samples):\n",
    "    fig, axes = plt.subplots(figsize=(16,4), nrows=2, ncols=8, sharey=True, sharex=True)\n",
    "    for ax, img in zip(axes.flatten(), samples[epoch]):\n",
    "        img = img.detach().cpu().numpy()\n",
    "        img = np.transpose(img, (1, 2, 0))\n",
    "        img = ((img + 1)*255 / (2)).astype(np.uint8)\n",
    "        ax.xaxis.set_visible(False)\n",
    "        ax.yaxis.set_visible(False)\n",
    "        im = ax.imshow(img.reshape((32,32,3)))"
   ]
  },
  {
   "cell_type": "code",
   "execution_count": 31,
   "metadata": {},
   "outputs": [],
   "source": [
    "# Load samples from generator, taken while training\n",
    "with open('train_samples.pkl', 'rb') as f:\n",
    "    samples = pkl.load(f)"
   ]
  },
  {
   "cell_type": "code",
   "execution_count": 32,
   "metadata": {},
   "outputs": [
    {
     "data": {
      "image/png": "[encoded data removed]",
      "text/plain": [
       "<matplotlib.figure.Figure at 0x7fce71eb2358>"
      ]
     },
     "metadata": {
      "needs_background": "light"
     },
     "output_type": "display_data"
    }
   ],
   "source": [
    "_ = view_samples(-1, samples)"
   ]
  },
  {
   "cell_type": "markdown",
   "metadata": {},
   "source": [
    "### Question: What do you notice about your generated samples and how might you improve this model?\n",
    "When you answer this question, consider the following factors:\n",
    "* The dataset is biased; it is made of \"celebrity\" faces that are mostly white\n",
    "* Model size; larger models have the opportunity to learn more features in a data feature space\n",
    "* Optimization strategy; optimizers and number of epochs affect your final result\n"
   ]
  },
  {
   "cell_type": "markdown",
   "metadata": {},
   "source": [
    "**Answer:**\n",
    "\n",
    "- The faces look like made of different peaces: \n",
    "    - there are not always good proportions,\n",
    "    - eyes may look in different diections,\n",
    "    - there is a women with mustasches,\n",
    "    - some faces are like after a car accident.\n",
    "\n",
    "\n",
    "1. Biased dataset:\n",
    "    - one may add faces from other collections,\n",
    "    - try to get a base of faces from a social network with open access.\n",
    "- Model size:\n",
    "    - add more ResNet blocks, \n",
    "    - increasing the resolution and make the existing architecture deeper by adding more up/down-sampling conv layers.\n",
    "- Optimization strategy:\n",
    "    - make a grid of parameters and check them,\n",
    "    - paralellize the check of parameters on a cluster."
   ]
  },
  {
   "cell_type": "markdown",
   "metadata": {},
   "source": [
    "### Submitting This Project\n",
    "When submitting this project, make sure to run all the cells before saving the notebook. Save the notebook file as \"dlnd_face_generation.ipynb\" and save it as a HTML file under \"File\" -> \"Download as\". Include the \"problem_unittests.py\" files in your submission."
   ]
  },
  {
   "cell_type": "markdown",
   "metadata": {},
   "source": [
    "\n",
    "\n",
    "\n",
    "\n"
   ]
  }
 ],
 "metadata": {
  "kernelspec": {
   "display_name": "Python 3",
   "language": "python",
   "name": "python3"
  },
  "language_info": {
   "codemirror_mode": {
    "name": "ipython",
    "version": 3
   },
   "file_extension": ".py",
   "mimetype": "text/x-python",
   "name": "python",
   "nbconvert_exporter": "python",
   "pygments_lexer": "ipython3",
   "version": "3.7.4"
  }
 },
 "nbformat": 4,
 "nbformat_minor": 4
}
